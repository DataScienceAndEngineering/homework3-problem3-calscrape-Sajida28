{
  "nbformat": 4,
  "nbformat_minor": 0,
  "metadata": {
    "colab": {
      "provenance": []
    },
    "kernelspec": {
      "name": "python3",
      "display_name": "Python 3"
    },
    "language_info": {
      "name": "python"
    }
  },
  "cells": [
    {
      "cell_type": "code",
      "execution_count": 46,
      "metadata": {
        "id": "AyTp1TD1Ng3K"
      },
      "outputs": [],
      "source": [
        "import requests\n",
        "from bs4 import BeautifulSoup\n",
        "import pandas as pd\n",
        "from datetime import datetime\n",
        "import json\n",
        "import csv"
      ]
    },
    {
      "cell_type": "code",
      "source": [
        "# URL of the CUNY Fall 2021 academic calendar site\n",
        "url = 'https://www.ccny.cuny.edu/registrar/fall'"
      ],
      "metadata": {
        "id": "ULYUfcyONngP"
      },
      "execution_count": 47,
      "outputs": []
    },
    {
      "cell_type": "code",
      "source": [
        "# Send a GET request to the URL\n",
        "response = requests.get(url)"
      ],
      "metadata": {
        "id": "wCw-cn0wOIiK"
      },
      "execution_count": 48,
      "outputs": []
    },
    {
      "cell_type": "code",
      "source": [
        "response"
      ],
      "metadata": {
        "colab": {
          "base_uri": "https://localhost:8080/"
        },
        "id": "58y9KqU7YcWt",
        "outputId": "a1c2078b-7688-4ef3-dbd6-26b86084b90e"
      },
      "execution_count": 49,
      "outputs": [
        {
          "output_type": "execute_result",
          "data": {
            "text/plain": [
              "<Response [200]>"
            ]
          },
          "metadata": {},
          "execution_count": 49
        }
      ]
    },
    {
      "cell_type": "code",
      "source": [
        "page_text = response.text"
      ],
      "metadata": {
        "id": "kYsPqDbPYrDa"
      },
      "execution_count": 50,
      "outputs": []
    },
    {
      "cell_type": "code",
      "source": [
        "page_text[:200]"
      ],
      "metadata": {
        "colab": {
          "base_uri": "https://localhost:8080/",
          "height": 53
        },
        "id": "--5EaMyNYuJ3",
        "outputId": "be8282b2-cab4-4011-9181-05c38063c3b5"
      },
      "execution_count": 51,
      "outputs": [
        {
          "output_type": "execute_result",
          "data": {
            "text/plain": [
              "'<!DOCTYPE html>\\n<html lang=\"en\" dir=\"ltr\" prefix=\"content: http://purl.org/rss/1.0/modules/content/  dc: http://purl.org/dc/terms/  foaf: http://xmlns.com/foaf/0.1/  og: http://ogp.me/ns#  rdfs: http:'"
            ],
            "application/vnd.google.colaboratory.intrinsic+json": {
              "type": "string"
            }
          },
          "metadata": {},
          "execution_count": 51
        }
      ]
    },
    {
      "cell_type": "code",
      "source": [
        "# Check if the request was successful\n",
        "if response.status_code == 200:\n",
        "    # Parse the HTML content using BeautifulSoup\n",
        "    soup = BeautifulSoup(response.text, 'html.parser')"
      ],
      "metadata": {
        "id": "1Vkubg1cOWT2"
      },
      "execution_count": 52,
      "outputs": []
    },
    {
      "cell_type": "code",
      "source": [
        "content =soup.article"
      ],
      "metadata": {
        "id": "78RQDRLHIwGK"
      },
      "execution_count": 53,
      "outputs": []
    },
    {
      "cell_type": "code",
      "source": [
        "content"
      ],
      "metadata": {
        "colab": {
          "base_uri": "https://localhost:8080/"
        },
        "id": "w4Grxorq0zCi",
        "outputId": "3a7162f5-7904-4fec-b0dc-530530f3ff3b"
      },
      "execution_count": 54,
      "outputs": [
        {
          "output_type": "execute_result",
          "data": {
            "text/plain": [
              "<article about=\"/registrar/fall\" role=\"article\" typeof=\"schema:WebPage\">\n",
              "<div class=\"layout-content--inner__wrapper white-bg\">\n",
              "<div>\n",
              "<div class=\"breadcrumbs\">\n",
              "<div class=\"breadcrumbs__inner\">\n",
              "<span class=\"breadcrumbs__carat\">&gt;</span>\n",
              "<a class=\"breadcrumbs__breadcrumb\" href=\"/\">Home</a>\n",
              "<span class=\"breadcrumbs__slash\">/</span>\n",
              "<a class=\"breadcrumbs__breadcrumb\" href=\"/registrar\">Registrar</a>\n",
              "<span class=\"breadcrumbs__slash\">/</span>\n",
              "<a class=\"breadcrumbs__breadcrumb active\" href=\"\">Fall 2021 Academic Calendar</a>\n",
              "</div>\n",
              "</div>\n",
              "</div>\n",
              "<div class=\"layout-content--inner\">\n",
              "<div class=\"content--container--wrapper\">\n",
              "<div class=\"content--container__full\">\n",
              "<div class=\"body-paragraph paragraph\">\n",
              "<p> </p>\n",
              "<h4>Dates are subject to change<br/>\n",
              "December 07, 2021</h4>\n",
              "<p> </p>\n",
              "<table align=\"center\" border=\"3\" cellpadding=\"1\" cellspacing=\"1\" style=\"width:1272px\"><thead><tr><th class=\"text-align-left\" scope=\"col\" style=\"width: 305px;\">DATES</th>\n",
              "<th class=\"text-align-left\" scope=\"col\" style=\"width: 327px;\">DAYS</th>\n",
              "<th scope=\"col\" style=\"width: 617px;\"> </th>\n",
              "</tr></thead><tbody><tr><td style=\"width:305px\">\n",
              "<p><strong>August 01</strong></p>\n",
              "</td>\n",
              "<td style=\"width:327px\">\n",
              "<p><strong>Sunday</strong></p>\n",
              "</td>\n",
              "<td style=\"width:617px\">\n",
              "<p><strong>Application for degree for January and February 2022 begins</strong></p>\n",
              "</td>\n",
              "</tr><tr><td style=\"width:305px\">\n",
              "<p>August 18</p>\n",
              "</td>\n",
              "<td style=\"width:327px\">\n",
              "<p>Wednesday</p>\n",
              "</td>\n",
              "<td style=\"width:617px\">\n",
              "<p>Last day to apply for Study Abroad</p>\n",
              "</td>\n",
              "</tr><tr><td style=\"width:305px\">\n",
              "<p><strong>August 24</strong></p>\n",
              "</td>\n",
              "<td style=\"width:327px\">\n",
              "<p><strong>Tuesday</strong></p>\n",
              "</td>\n",
              "<td style=\"width:617px\">\n",
              "<p><strong>Last day of Registration;<br/>\n",
              "\t\t\tLast day to file ePermit for the Fall 2021;<br/>\n",
              "\t\t\tLast day to drop classes for 100% tuition refund;</strong></p>\n",
              "</td>\n",
              "</tr><tr><td style=\"width:305px\">\n",
              "<p>August 25</p>\n",
              "</td>\n",
              "<td style=\"width:327px\">\n",
              "<p>Wednesday</p>\n",
              "</td>\n",
              "<td style=\"width:617px\">\n",
              "<p>Start of Fall Term;<br/>\n",
              "\t\t\tClasses begin;<br/>\n",
              "\t\t\tInitial Registration Appeals begin;</p>\n",
              "</td>\n",
              "</tr><tr><td style=\"width:305px\">\n",
              "<p><strong>August 25 - 31</strong></p>\n",
              "</td>\n",
              "<td style=\"width:327px\">\n",
              "<p><strong>Wednesday - Tuesday</strong></p>\n",
              "</td>\n",
              "<td style=\"width:617px\">\n",
              "<p><strong>Change of program period; late fees apply</strong></p>\n",
              "</td>\n",
              "</tr><tr><td style=\"width:305px\">\n",
              "<p>August 26</p>\n",
              "</td>\n",
              "<td style=\"width:327px\">\n",
              "<p>Thursday</p>\n",
              "</td>\n",
              "<td style=\"width:617px\">\n",
              "<p>Last day for Independent Study</p>\n",
              "</td>\n",
              "</tr><tr><td style=\"width:305px\">\n",
              "<p><strong>August 28</strong></p>\n",
              "</td>\n",
              "<td style=\"width:327px\">\n",
              "<p><strong>Saturday</strong></p>\n",
              "</td>\n",
              "<td style=\"width:617px\">\n",
              "<p><strong>First day of Saturday Classes</strong></p>\n",
              "</td>\n",
              "</tr><tr><td style=\"width:305px\">\n",
              "<p>August 31</p>\n",
              "</td>\n",
              "<td style=\"width:327px\">\n",
              "<p>Tuesday</p>\n",
              "</td>\n",
              "<td style=\"width:617px\">\n",
              "<p>Last day to add a class to an existing enrollment;<br/>\n",
              "\t\t\tLast day for 75% tuition refund;<br/>\n",
              "\t\t\tFinancial Aid Certification Enrollment Status date;<br/>\n",
              "\t\t\tLast day to apply for Audit option;<br/>\n",
              "\t\t\tLast day to drop without the grade of 'WD';<br/>\n",
              "\t\t\tInitial Registration Appeals end;</p>\n",
              "</td>\n",
              "</tr><tr><td style=\"width:305px\">\n",
              "<p><strong>September 01</strong></p>\n",
              "</td>\n",
              "<td style=\"width:327px\">\n",
              "<p><strong>Wednesday</strong></p>\n",
              "</td>\n",
              "<td style=\"width:617px\">\n",
              "<p><strong>Verification of Enrollment rosters available to faculty;<br/>\n",
              "\t\t\tCourse Withdrawal drop period begins (A grade of 'WD' is assigned to students who officially drop a class);</strong></p>\n",
              "</td>\n",
              "</tr><tr><td style=\"width:305px\">\n",
              "<p>September 03 - 08</p>\n",
              "</td>\n",
              "<td style=\"width:327px\">\n",
              "<p>Friday - Wednesday</p>\n",
              "</td>\n",
              "<td style=\"width:617px\">\n",
              "<p>No classes scheduled</p>\n",
              "</td>\n",
              "</tr><tr><td style=\"width:305px\"><strong>September 06</strong></td>\n",
              "<td style=\"width:327px\"><strong>Monday</strong></td>\n",
              "<td style=\"width:617px\">\n",
              "<p><strong>College Closed;<br/>\n",
              "\t\t\tLast day for 50% tuition refund;</strong></p>\n",
              "</td>\n",
              "</tr><tr><td style=\"width:305px\">\n",
              "<p>September 09</p>\n",
              "</td>\n",
              "<td style=\"width:327px\">Thursday</td>\n",
              "<td style=\"width:617px\">Freshman Convocation</td>\n",
              "</tr><tr><td style=\"width:305px\">\n",
              "<p><strong>September 14</strong></p>\n",
              "</td>\n",
              "<td style=\"width:327px\">\n",
              "<p><strong>Tuesday</strong></p>\n",
              "</td>\n",
              "<td style=\"width:617px\">\n",
              "<p><strong>Last day for 25% tuition refund;<br/>\n",
              "\t\t\tCensus date;<br/>\n",
              "\t\t\tLast day to change or declare a major/minor to be effective in Fall 2021;<br/>\n",
              "\t\t\tLast day to drop without the grade of 'W';<br/>\n",
              "\t\t\tCourse Withdrawal drop period ends (Last day for 'WD' grades);<br/>\n",
              "\t\t\tVerification of Enrollment Rosters Dues from Faculty;</strong></p>\n",
              "</td>\n",
              "</tr><tr><td style=\"width:305px\">\n",
              "<p>September 15</p>\n",
              "</td>\n",
              "<td style=\"width:327px\">\n",
              "<p>Wednesday</p>\n",
              "</td>\n",
              "<td style=\"width:617px\">\n",
              "<p>Assignment of 'WN' grades for non-attendance;<br/>\n",
              "\t\t\tCourse Withdrawal period begins (A grade of 'W' is assigned to students who officially drop a class) - No Refund;<br/>\n",
              "\t\t\t100% Tuition obligation for course drops;</p>\n",
              "</td>\n",
              "</tr><tr><td style=\"width:305px\">\n",
              "<p><strong>September 15 - 16</strong></p>\n",
              "</td>\n",
              "<td style=\"width:327px\">\n",
              "<p><strong>Wednesday - Thursday</strong></p>\n",
              "</td>\n",
              "<td style=\"width:617px\">\n",
              "<p><strong>No classes scheduled</strong></p>\n",
              "</td>\n",
              "</tr><tr><td style=\"width:305px\">\n",
              "<p>September 23</p>\n",
              "</td>\n",
              "<td style=\"width:327px\">\n",
              "<p>Thursday</p>\n",
              "</td>\n",
              "<td style=\"width:617px\">\n",
              "<p>Last day to submit proof of immunization for NYS residents;</p>\n",
              "</td>\n",
              "</tr><tr><td style=\"width:305px\">\n",
              "<p><strong>September 24 </strong></p>\n",
              "</td>\n",
              "<td style=\"width:327px\">\n",
              "<p><strong>Friday</strong></p>\n",
              "</td>\n",
              "<td style=\"width:617px\">\n",
              "<p><strong>Assignment of 'WA' grades for immunization non-compliance</strong></p>\n",
              "</td>\n",
              "</tr><tr><td style=\"width:305px\">October 01</td>\n",
              "<td style=\"width:327px\">Friday</td>\n",
              "<td style=\"width:617px\">\n",
              "<p>Advising month begins for Spring and Winter enrollment</p>\n",
              "</td>\n",
              "</tr><tr><td style=\"width:305px\">\n",
              "<p><strong>October 08</strong></p>\n",
              "</td>\n",
              "<td style=\"width:327px\">\n",
              "<p><strong>Friday</strong></p>\n",
              "</td>\n",
              "<td style=\"width:617px\">\n",
              "<p><strong>Deadline for filing application for degree for January and February 2022;<br/>\n",
              "\t\t\tLast day to submit proof of immunization for non-NYS residents;</strong></p>\n",
              "</td>\n",
              "</tr><tr><td style=\"width:305px\">\n",
              "<p>October 11</p>\n",
              "</td>\n",
              "<td style=\"width:327px\">\n",
              "<p>Monday</p>\n",
              "</td>\n",
              "<td style=\"width:617px\">\n",
              "<p>College Closed</p>\n",
              "</td>\n",
              "</tr><tr><td style=\"width:305px\">\n",
              "<p><strong>November 01</strong></p>\n",
              "</td>\n",
              "<td style=\"width:327px\">\n",
              "<p><strong>Monday</strong></p>\n",
              "</td>\n",
              "<td style=\"width:617px\">\n",
              "<p><strong>'INC' grades for Spring 2021 and Winter 2021 for Undergraduate students convert to 'FIN';<br/>\n",
              "\t\t\t'INC' grades for Summer 2020 and Fall 2020 for Graduate students convert to 'FIN';</strong></p>\n",
              "</td>\n",
              "</tr><tr><td style=\"width:305px\">\n",
              "<p>November 02</p>\n",
              "</td>\n",
              "<td style=\"width:327px\">\n",
              "<p>Tuesday</p>\n",
              "</td>\n",
              "<td style=\"width:617px\">\n",
              "<p>Registration appointments for Winter and Spring 2022 begin for continuing students.  Check your CUNYFirst account for your appointment date and time.</p>\n",
              "</td>\n",
              "</tr><tr><td style=\"width:305px\">\n",
              "<p><strong>November 04</strong></p>\n",
              "</td>\n",
              "<td style=\"width:327px\">\n",
              "<p><strong>Thursday</strong></p>\n",
              "</td>\n",
              "<td style=\"width:617px\">\n",
              "<p><strong>Last day to file for P/NC option</strong></p>\n",
              "</td>\n",
              "</tr><tr><td style=\"width:305px\">\n",
              "<p>November 06</p>\n",
              "</td>\n",
              "<td style=\"width:327px\">Saturday</td>\n",
              "<td style=\"width:617px\">60% Date of the term</td>\n",
              "</tr><tr><td style=\"width:305px\">\n",
              "<p><strong>November 23</strong></p>\n",
              "</td>\n",
              "<td style=\"width:327px\">\n",
              "<p><strong>Tuesday</strong></p>\n",
              "</td>\n",
              "<td style=\"width:617px\"><strong>'INC' grades for Summer 2021 for Undergraduate students convert to 'FIN'</strong></td>\n",
              "</tr><tr><td style=\"width:305px\">\n",
              "<p>November 25 - 28</p>\n",
              "</td>\n",
              "<td style=\"width:327px\">\n",
              "<p>Thursday - Sunday</p>\n",
              "</td>\n",
              "<td style=\"width:617px\">\n",
              "<p>College Closed</p>\n",
              "</td>\n",
              "</tr><tr><td style=\"width:305px\">\n",
              "<p><strong>December 11</strong></p>\n",
              "</td>\n",
              "<td style=\"width:327px\">\n",
              "<p><strong>Saturday</strong></p>\n",
              "</td>\n",
              "<td style=\"width:617px\">\n",
              "<p><strong>Last day of Saturday Classes</strong></p>\n",
              "</td>\n",
              "</tr><tr><td style=\"width:305px\">\n",
              "<p>December 13</p>\n",
              "</td>\n",
              "<td style=\"width:327px\">\n",
              "<p>Monday</p>\n",
              "</td>\n",
              "<td style=\"width:617px\">\n",
              "<p>Course Withdrawal period ends (Last day to withdraw from a class with the grade of 'W');<br/>\n",
              "\t\t\tLast day of Classes;</p>\n",
              "</td>\n",
              "</tr><tr><td style=\"width:305px\">\n",
              "<p><strong>December 14</strong></p>\n",
              "</td>\n",
              "<td style=\"width:327px\">\n",
              "<p><strong>Tuesday</strong></p>\n",
              "</td>\n",
              "<td style=\"width:617px\">\n",
              "<p><strong>Reading Day</strong></p>\n",
              "</td>\n",
              "</tr><tr><td style=\"width:305px\">\n",
              "<p>December 15 - 21</p>\n",
              "</td>\n",
              "<td style=\"width:327px\">\n",
              "<p>Wednesday - Tuesday</p>\n",
              "</td>\n",
              "<td style=\"width:617px\">\n",
              "<p>Final Examinations</p>\n",
              "</td>\n",
              "</tr><tr><td style=\"width:305px\">\n",
              "<p><strong>December 21</strong></p>\n",
              "</td>\n",
              "<td style=\"width:327px\">\n",
              "<p><strong>Tuesday</strong></p>\n",
              "</td>\n",
              "<td style=\"width:617px\">\n",
              "<p><strong>End of Term</strong></p>\n",
              "</td>\n",
              "</tr><tr><td style=\"width:305px\">\n",
              "<p>December 24 - 25</p>\n",
              "</td>\n",
              "<td style=\"width:327px\">\n",
              "<p>Friday - Saturday</p>\n",
              "</td>\n",
              "<td style=\"width:617px\">\n",
              "<p>College Closed</p>\n",
              "</td>\n",
              "</tr><tr><td style=\"width:305px\">\n",
              "<p><strong>December 27</strong></p>\n",
              "</td>\n",
              "<td style=\"width:327px\">\n",
              "<p><strong>Monday</strong></p>\n",
              "</td>\n",
              "<td style=\"width:617px\">\n",
              "<p><strong>College Closed</strong></p>\n",
              "</td>\n",
              "</tr><tr><td style=\"width:305px\">\n",
              "<p>December 28</p>\n",
              "</td>\n",
              "<td style=\"width:327px\">\n",
              "<p>Tuesday</p>\n",
              "</td>\n",
              "<td style=\"width:617px\">\n",
              "<p>Final Grade Submission Deadline for Fall 2021</p>\n",
              "</td>\n",
              "</tr><tr><td style=\"width:305px\">\n",
              "<p><strong>December 31</strong></p>\n",
              "</td>\n",
              "<td style=\"width:327px\">\n",
              "<p><strong>Friday</strong></p>\n",
              "</td>\n",
              "<td style=\"width:617px\">\n",
              "<p><strong>College Closed</strong></p>\n",
              "</td>\n",
              "</tr><tr><td style=\"width:305px\">\n",
              "<p>January 1, 2022</p>\n",
              "</td>\n",
              "<td style=\"width:327px\">\n",
              "<p>Saturday</p>\n",
              "</td>\n",
              "<td style=\"width:617px\">\n",
              "<p>College Closed;<br/>\n",
              "\t\t\tFall 2021 Degree Conferral Date;</p>\n",
              "</td>\n",
              "</tr></tbody></table><p> </p>\n",
              "</div>\n",
              "</div>\n",
              "<div class=\"add-this--container__full social-share-sidebar__row\">\n",
              "<div class=\"social-share-sidebar\">\n",
              "<div class=\"social-share-sidebar__inner\">\n",
              "<div class=\"addthis_toolbox\">\n",
              "<div class=\"custom_images\">\n",
              "<ul class=\"social-share-sidebar__list\">\n",
              "<li class=\"social-share-sidebar__list-item\">\n",
              "<a class=\"addthis_button_twitter social-share-sidebar__link\">\n",
              "<img alt=\"Share to Twitter\" border=\"0\" height=\"64\" src=\"/themes/custom/ccny_theme/dist/assets/icon-twitter-purple-hollow.svg\" width=\"64\"/>\n",
              "</a>\n",
              "</li>\n",
              "<li class=\"social-share-sidebar__list-item\">\n",
              "<a class=\"addthis_button_facebook social-share-sidebar__link\">\n",
              "<img alt=\"Share to Facebook\" border=\"0\" height=\"64\" src=\"/themes/custom/ccny_theme/dist/assets/icon-facebook-purple-hollow.svg\" width=\"64\"/>\n",
              "</a>\n",
              "</li>\n",
              "<li class=\"social-share-sidebar__list-item\">\n",
              "<a class=\"addthis_button_linkedin social-share-sidebar__link\">\n",
              "<img alt=\"Share to LinkedIn\" border=\"0\" height=\"64\" src=\"/themes/custom/ccny_theme/dist/assets/icon-linkedin-purple-hollow.svg\" width=\"64\"/>\n",
              "</a>\n",
              "</li>\n",
              "<li class=\"social-share-sidebar__list-item\">\n",
              "<a class=\"addthis_button_email social-share-sidebar__link\">\n",
              "<img alt=\"Share to Email\" border=\"0\" height=\"64\" src=\"/themes/custom/ccny_theme/dist/assets/icon-mail-purple-hollow.svg\" width=\"64\"/>\n",
              "</a>\n",
              "</li>\n",
              "<li class=\"social-share-sidebar__list-item\">\n",
              "<a class=\"addthis_button_more social-share-sidebar__link\">\n",
              "<img alt=\"More...\" border=\"0\" height=\"64\" src=\"/themes/custom/ccny_theme/dist/assets/icon-plus-purple-hollow.svg\" width=\"64\"/>\n",
              "</a>\n",
              "</li>\n",
              "</ul>\n",
              "</div>\n",
              "</div>\n",
              "</div>\n",
              "</div>\n",
              "</div>\n",
              "<div class=\"sub-footer--container\">\n",
              "</div>\n",
              "</div>\n",
              "</div>\n",
              "</div>\n",
              "<script async=\"\" referrerpolicy=\"no-referrer-when-downgrade\" src=\"https://bot.ivy.ai/bot/script/category/28wd9NaExB5YQpMdy5GqryKJ1kZ706mW\" type=\"text/javascript\"></script>\n",
              "<p class=\"last-updated\"><span>Last Updated:</span> 12/07/2021 11:26</p>\n",
              "</article>"
            ]
          },
          "metadata": {},
          "execution_count": 54
        }
      ]
    },
    {
      "cell_type": "code",
      "source": [
        "# Initialize lists to store extracted data\n",
        "links_list = []"
      ],
      "metadata": {
        "id": "v39RdKwHObSd"
      },
      "execution_count": 55,
      "outputs": []
    },
    {
      "cell_type": "code",
      "source": [
        "#Loop through all the links in the article\n",
        "for link in content.find_all(\"a\"):\n",
        "  try: #try to get url,date,days of week and text\n",
        "    url = link.get(\"href\")\n",
        "    date = link.date.get(\"DATE\")\n",
        "    days_of_week = link.days_of_week.get(\"DAYS\")\n",
        "    text = link.span.text\n",
        "    links_list.append({'url': url, 'date': date, 'days_of_week' : days_of_week, 'text': text})\n",
        "  except AttributeError: #if rows are missing or anythin\n",
        "    pass #skip it don't blow up"
      ],
      "metadata": {
        "id": "vOwRzpDK1LIK"
      },
      "execution_count": 56,
      "outputs": []
    },
    {
      "cell_type": "code",
      "source": [
        "\n",
        "#save as json file\n",
        "with open('links.json', 'w', encoding ='utf-8') as links_file:\n",
        "  json.dump(links_list, links_file, ensure_ascii = False )\n"
      ],
      "metadata": {
        "id": "Sct6f40H3lOz"
      },
      "execution_count": 66,
      "outputs": []
    },
    {
      "cell_type": "code",
      "source": [
        "#save it as csv\n",
        "with open('links.csv', 'w', newline ='') as csv_out:\n",
        "  csv_writer = csv.writer(csv_out)\n",
        "  #create the header row\n",
        "  csv_writer.writerow(['url','date','days_of_week','text'])\n",
        "  for row in links_list:\n",
        "    csv_writer.writerow([str(row['url']),str(row['date']),str(row['days_of_week']),str(row['text'])])\n"
      ],
      "metadata": {
        "id": "472iRLJd6WL7"
      },
      "execution_count": 67,
      "outputs": []
    },
    {
      "cell_type": "code",
      "source": [
        "df = pd.DataFrame(links_list)\n",
        "file_path = \"links_list.json\"\n",
        "df.to_json(file_path, orient=\"records\")\n"
      ],
      "metadata": {
        "id": "jRJb61boVOk6"
      },
      "execution_count": 79,
      "outputs": []
    },
    {
      "cell_type": "code",
      "source": [
        "\n"
      ],
      "metadata": {
        "id": "SZ46otgYVlhD"
      },
      "execution_count": 60,
      "outputs": []
    }
  ]
}