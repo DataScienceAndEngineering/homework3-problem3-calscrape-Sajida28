{
  "nbformat": 4,
  "nbformat_minor": 0,
  "metadata": {
    "colab": {
      "provenance": []
    },
    "kernelspec": {
      "name": "python3",
      "display_name": "Python 3"
    },
    "language_info": {
      "name": "python"
    }
  },
  "cells": [
    {
      "cell_type": "code",
      "execution_count": 46,
      "metadata": {
        "id": "AyTp1TD1Ng3K"
      },
      "outputs": [],
      "source": [
        "import requests\n",
        "from bs4 import BeautifulSoup\n",
        "import pandas as pd\n",
        "from datetime import datetime\n",
        "import json\n",
        "import csv"
      ]
    },
    {
      "cell_type": "code",
      "source": [
        "# URL of the CUNY Fall 2021 academic calendar site\n",
        "url = 'https://www.ccny.cuny.edu/registrar/fall'"
      ],
      "metadata": {
        "id": "ULYUfcyONngP"
      },
      "execution_count": 47,
      "outputs": []
    },
    {
      "cell_type": "code",
      "source": [
        "# Send a GET request to the URL\n",
        "response = requests.get(url)"
      ],
      "metadata": {
        "id": "wCw-cn0wOIiK"
      },
      "execution_count": 48,
      "outputs": []
    },
    {
      "cell_type": "code",
      "source": [
        "response"
      ],
      "metadata": {
        "colab": {
          "base_uri": "https://localhost:8080/"
        },
        "id": "58y9KqU7YcWt",
        "outputId": "a1c2078b-7688-4ef3-dbd6-26b86084b90e"
      },
      "execution_count": 49,
      "outputs": [
        {
          "output_type": "execute_result",
          "data": {
            "text/plain": [
              "<Response [200]>"
            ]
          },
          "metadata": {},
          "execution_count": 49
        }
      ]
    },
    {
      "cell_type": "code",
      "source": [
        "page_text = response.text"
      ],
      "metadata": {
        "id": "kYsPqDbPYrDa"
      },
      "execution_count": 50,
      "outputs": []
    },
    {
      "cell_type": "code",
      "source": [
        "page_text[:200]"
      ],
      "metadata": {
        "colab": {
          "base_uri": "https://localhost:8080/",
          "height": 53
        },
        "id": "--5EaMyNYuJ3",
        "outputId": "be8282b2-cab4-4011-9181-05c38063c3b5"
      },
      "execution_count": 51,
      "outputs": [
        {
          "output_type": "execute_result",
          "data": {
            "text/plain": [
              "'<!DOCTYPE html>\\n<html lang=\"en\" dir=\"ltr\" prefix=\"content: http://purl.org/rss/1.0/modules/content/  dc: http://purl.org/dc/terms/  foaf: http://xmlns.com/foaf/0.1/  og: http://ogp.me/ns#  rdfs: http:'"
            ],
            "application/vnd.google.colaboratory.intrinsic+json": {
              "type": "string"
            }
          },
          "metadata": {},
          "execution_count": 51
        }
      ]
    },
    {
      "cell_type": "code",
      "source": [
        "# Check if the request was successful\n",
        "if response.status_code == 200:\n",
        "    # Parse the HTML content using BeautifulSoup\n",
        "    soup = BeautifulSoup(response.text, 'html.parser')"
      ],
      "metadata": {
        "id": "1Vkubg1cOWT2"
      },
      "execution_count": 52,
      "outputs": []
    },
    {
      "cell_type": "code",
      "source": [
        "content =soup.article"
      ],
      "metadata": {
        "id": "78RQDRLHIwGK"
      },
      "execution_count": 53,
      "outputs": []
    },
    {
      "cell_type": "code",
      "source": [
        "tables = content.find_all('table')"
      ],
      "metadata": {
        "id": "w4Grxorq0zCi"
      },
      "execution_count": 82,
      "outputs": []
    },
    {
      "cell_type": "code",
      "source": [
        "tables"
      ],
      "metadata": {
        "colab": {
          "base_uri": "https://localhost:8080/"
        },
        "id": "EvHDvAU1GLEi",
        "outputId": "8e697094-0468-460f-b443-c69110e03ad8"
      },
      "execution_count": 85,
      "outputs": [
        {
          "output_type": "execute_result",
          "data": {
            "text/plain": [
              "[<table align=\"center\" border=\"3\" cellpadding=\"1\" cellspacing=\"1\" style=\"width:1272px\"><thead><tr><th class=\"text-align-left\" scope=\"col\" style=\"width: 305px;\">DATES</th>\n",
              " <th class=\"text-align-left\" scope=\"col\" style=\"width: 327px;\">DAYS</th>\n",
              " <th scope=\"col\" style=\"width: 617px;\"> </th>\n",
              " </tr></thead><tbody><tr><td style=\"width:305px\">\n",
              " <p><strong>August 01</strong></p>\n",
              " </td>\n",
              " <td style=\"width:327px\">\n",
              " <p><strong>Sunday</strong></p>\n",
              " </td>\n",
              " <td style=\"width:617px\">\n",
              " <p><strong>Application for degree for January and February 2022 begins</strong></p>\n",
              " </td>\n",
              " </tr><tr><td style=\"width:305px\">\n",
              " <p>August 18</p>\n",
              " </td>\n",
              " <td style=\"width:327px\">\n",
              " <p>Wednesday</p>\n",
              " </td>\n",
              " <td style=\"width:617px\">\n",
              " <p>Last day to apply for Study Abroad</p>\n",
              " </td>\n",
              " </tr><tr><td style=\"width:305px\">\n",
              " <p><strong>August 24</strong></p>\n",
              " </td>\n",
              " <td style=\"width:327px\">\n",
              " <p><strong>Tuesday</strong></p>\n",
              " </td>\n",
              " <td style=\"width:617px\">\n",
              " <p><strong>Last day of Registration;<br/>\n",
              " \t\t\tLast day to file ePermit for the Fall 2021;<br/>\n",
              " \t\t\tLast day to drop classes for 100% tuition refund;</strong></p>\n",
              " </td>\n",
              " </tr><tr><td style=\"width:305px\">\n",
              " <p>August 25</p>\n",
              " </td>\n",
              " <td style=\"width:327px\">\n",
              " <p>Wednesday</p>\n",
              " </td>\n",
              " <td style=\"width:617px\">\n",
              " <p>Start of Fall Term;<br/>\n",
              " \t\t\tClasses begin;<br/>\n",
              " \t\t\tInitial Registration Appeals begin;</p>\n",
              " </td>\n",
              " </tr><tr><td style=\"width:305px\">\n",
              " <p><strong>August 25 - 31</strong></p>\n",
              " </td>\n",
              " <td style=\"width:327px\">\n",
              " <p><strong>Wednesday - Tuesday</strong></p>\n",
              " </td>\n",
              " <td style=\"width:617px\">\n",
              " <p><strong>Change of program period; late fees apply</strong></p>\n",
              " </td>\n",
              " </tr><tr><td style=\"width:305px\">\n",
              " <p>August 26</p>\n",
              " </td>\n",
              " <td style=\"width:327px\">\n",
              " <p>Thursday</p>\n",
              " </td>\n",
              " <td style=\"width:617px\">\n",
              " <p>Last day for Independent Study</p>\n",
              " </td>\n",
              " </tr><tr><td style=\"width:305px\">\n",
              " <p><strong>August 28</strong></p>\n",
              " </td>\n",
              " <td style=\"width:327px\">\n",
              " <p><strong>Saturday</strong></p>\n",
              " </td>\n",
              " <td style=\"width:617px\">\n",
              " <p><strong>First day of Saturday Classes</strong></p>\n",
              " </td>\n",
              " </tr><tr><td style=\"width:305px\">\n",
              " <p>August 31</p>\n",
              " </td>\n",
              " <td style=\"width:327px\">\n",
              " <p>Tuesday</p>\n",
              " </td>\n",
              " <td style=\"width:617px\">\n",
              " <p>Last day to add a class to an existing enrollment;<br/>\n",
              " \t\t\tLast day for 75% tuition refund;<br/>\n",
              " \t\t\tFinancial Aid Certification Enrollment Status date;<br/>\n",
              " \t\t\tLast day to apply for Audit option;<br/>\n",
              " \t\t\tLast day to drop without the grade of 'WD';<br/>\n",
              " \t\t\tInitial Registration Appeals end;</p>\n",
              " </td>\n",
              " </tr><tr><td style=\"width:305px\">\n",
              " <p><strong>September 01</strong></p>\n",
              " </td>\n",
              " <td style=\"width:327px\">\n",
              " <p><strong>Wednesday</strong></p>\n",
              " </td>\n",
              " <td style=\"width:617px\">\n",
              " <p><strong>Verification of Enrollment rosters available to faculty;<br/>\n",
              " \t\t\tCourse Withdrawal drop period begins (A grade of 'WD' is assigned to students who officially drop a class);</strong></p>\n",
              " </td>\n",
              " </tr><tr><td style=\"width:305px\">\n",
              " <p>September 03 - 08</p>\n",
              " </td>\n",
              " <td style=\"width:327px\">\n",
              " <p>Friday - Wednesday</p>\n",
              " </td>\n",
              " <td style=\"width:617px\">\n",
              " <p>No classes scheduled</p>\n",
              " </td>\n",
              " </tr><tr><td style=\"width:305px\"><strong>September 06</strong></td>\n",
              " <td style=\"width:327px\"><strong>Monday</strong></td>\n",
              " <td style=\"width:617px\">\n",
              " <p><strong>College Closed;<br/>\n",
              " \t\t\tLast day for 50% tuition refund;</strong></p>\n",
              " </td>\n",
              " </tr><tr><td style=\"width:305px\">\n",
              " <p>September 09</p>\n",
              " </td>\n",
              " <td style=\"width:327px\">Thursday</td>\n",
              " <td style=\"width:617px\">Freshman Convocation</td>\n",
              " </tr><tr><td style=\"width:305px\">\n",
              " <p><strong>September 14</strong></p>\n",
              " </td>\n",
              " <td style=\"width:327px\">\n",
              " <p><strong>Tuesday</strong></p>\n",
              " </td>\n",
              " <td style=\"width:617px\">\n",
              " <p><strong>Last day for 25% tuition refund;<br/>\n",
              " \t\t\tCensus date;<br/>\n",
              " \t\t\tLast day to change or declare a major/minor to be effective in Fall 2021;<br/>\n",
              " \t\t\tLast day to drop without the grade of 'W';<br/>\n",
              " \t\t\tCourse Withdrawal drop period ends (Last day for 'WD' grades);<br/>\n",
              " \t\t\tVerification of Enrollment Rosters Dues from Faculty;</strong></p>\n",
              " </td>\n",
              " </tr><tr><td style=\"width:305px\">\n",
              " <p>September 15</p>\n",
              " </td>\n",
              " <td style=\"width:327px\">\n",
              " <p>Wednesday</p>\n",
              " </td>\n",
              " <td style=\"width:617px\">\n",
              " <p>Assignment of 'WN' grades for non-attendance;<br/>\n",
              " \t\t\tCourse Withdrawal period begins (A grade of 'W' is assigned to students who officially drop a class) - No Refund;<br/>\n",
              " \t\t\t100% Tuition obligation for course drops;</p>\n",
              " </td>\n",
              " </tr><tr><td style=\"width:305px\">\n",
              " <p><strong>September 15 - 16</strong></p>\n",
              " </td>\n",
              " <td style=\"width:327px\">\n",
              " <p><strong>Wednesday - Thursday</strong></p>\n",
              " </td>\n",
              " <td style=\"width:617px\">\n",
              " <p><strong>No classes scheduled</strong></p>\n",
              " </td>\n",
              " </tr><tr><td style=\"width:305px\">\n",
              " <p>September 23</p>\n",
              " </td>\n",
              " <td style=\"width:327px\">\n",
              " <p>Thursday</p>\n",
              " </td>\n",
              " <td style=\"width:617px\">\n",
              " <p>Last day to submit proof of immunization for NYS residents;</p>\n",
              " </td>\n",
              " </tr><tr><td style=\"width:305px\">\n",
              " <p><strong>September 24 </strong></p>\n",
              " </td>\n",
              " <td style=\"width:327px\">\n",
              " <p><strong>Friday</strong></p>\n",
              " </td>\n",
              " <td style=\"width:617px\">\n",
              " <p><strong>Assignment of 'WA' grades for immunization non-compliance</strong></p>\n",
              " </td>\n",
              " </tr><tr><td style=\"width:305px\">October 01</td>\n",
              " <td style=\"width:327px\">Friday</td>\n",
              " <td style=\"width:617px\">\n",
              " <p>Advising month begins for Spring and Winter enrollment</p>\n",
              " </td>\n",
              " </tr><tr><td style=\"width:305px\">\n",
              " <p><strong>October 08</strong></p>\n",
              " </td>\n",
              " <td style=\"width:327px\">\n",
              " <p><strong>Friday</strong></p>\n",
              " </td>\n",
              " <td style=\"width:617px\">\n",
              " <p><strong>Deadline for filing application for degree for January and February 2022;<br/>\n",
              " \t\t\tLast day to submit proof of immunization for non-NYS residents;</strong></p>\n",
              " </td>\n",
              " </tr><tr><td style=\"width:305px\">\n",
              " <p>October 11</p>\n",
              " </td>\n",
              " <td style=\"width:327px\">\n",
              " <p>Monday</p>\n",
              " </td>\n",
              " <td style=\"width:617px\">\n",
              " <p>College Closed</p>\n",
              " </td>\n",
              " </tr><tr><td style=\"width:305px\">\n",
              " <p><strong>November 01</strong></p>\n",
              " </td>\n",
              " <td style=\"width:327px\">\n",
              " <p><strong>Monday</strong></p>\n",
              " </td>\n",
              " <td style=\"width:617px\">\n",
              " <p><strong>'INC' grades for Spring 2021 and Winter 2021 for Undergraduate students convert to 'FIN';<br/>\n",
              " \t\t\t'INC' grades for Summer 2020 and Fall 2020 for Graduate students convert to 'FIN';</strong></p>\n",
              " </td>\n",
              " </tr><tr><td style=\"width:305px\">\n",
              " <p>November 02</p>\n",
              " </td>\n",
              " <td style=\"width:327px\">\n",
              " <p>Tuesday</p>\n",
              " </td>\n",
              " <td style=\"width:617px\">\n",
              " <p>Registration appointments for Winter and Spring 2022 begin for continuing students.  Check your CUNYFirst account for your appointment date and time.</p>\n",
              " </td>\n",
              " </tr><tr><td style=\"width:305px\">\n",
              " <p><strong>November 04</strong></p>\n",
              " </td>\n",
              " <td style=\"width:327px\">\n",
              " <p><strong>Thursday</strong></p>\n",
              " </td>\n",
              " <td style=\"width:617px\">\n",
              " <p><strong>Last day to file for P/NC option</strong></p>\n",
              " </td>\n",
              " </tr><tr><td style=\"width:305px\">\n",
              " <p>November 06</p>\n",
              " </td>\n",
              " <td style=\"width:327px\">Saturday</td>\n",
              " <td style=\"width:617px\">60% Date of the term</td>\n",
              " </tr><tr><td style=\"width:305px\">\n",
              " <p><strong>November 23</strong></p>\n",
              " </td>\n",
              " <td style=\"width:327px\">\n",
              " <p><strong>Tuesday</strong></p>\n",
              " </td>\n",
              " <td style=\"width:617px\"><strong>'INC' grades for Summer 2021 for Undergraduate students convert to 'FIN'</strong></td>\n",
              " </tr><tr><td style=\"width:305px\">\n",
              " <p>November 25 - 28</p>\n",
              " </td>\n",
              " <td style=\"width:327px\">\n",
              " <p>Thursday - Sunday</p>\n",
              " </td>\n",
              " <td style=\"width:617px\">\n",
              " <p>College Closed</p>\n",
              " </td>\n",
              " </tr><tr><td style=\"width:305px\">\n",
              " <p><strong>December 11</strong></p>\n",
              " </td>\n",
              " <td style=\"width:327px\">\n",
              " <p><strong>Saturday</strong></p>\n",
              " </td>\n",
              " <td style=\"width:617px\">\n",
              " <p><strong>Last day of Saturday Classes</strong></p>\n",
              " </td>\n",
              " </tr><tr><td style=\"width:305px\">\n",
              " <p>December 13</p>\n",
              " </td>\n",
              " <td style=\"width:327px\">\n",
              " <p>Monday</p>\n",
              " </td>\n",
              " <td style=\"width:617px\">\n",
              " <p>Course Withdrawal period ends (Last day to withdraw from a class with the grade of 'W');<br/>\n",
              " \t\t\tLast day of Classes;</p>\n",
              " </td>\n",
              " </tr><tr><td style=\"width:305px\">\n",
              " <p><strong>December 14</strong></p>\n",
              " </td>\n",
              " <td style=\"width:327px\">\n",
              " <p><strong>Tuesday</strong></p>\n",
              " </td>\n",
              " <td style=\"width:617px\">\n",
              " <p><strong>Reading Day</strong></p>\n",
              " </td>\n",
              " </tr><tr><td style=\"width:305px\">\n",
              " <p>December 15 - 21</p>\n",
              " </td>\n",
              " <td style=\"width:327px\">\n",
              " <p>Wednesday - Tuesday</p>\n",
              " </td>\n",
              " <td style=\"width:617px\">\n",
              " <p>Final Examinations</p>\n",
              " </td>\n",
              " </tr><tr><td style=\"width:305px\">\n",
              " <p><strong>December 21</strong></p>\n",
              " </td>\n",
              " <td style=\"width:327px\">\n",
              " <p><strong>Tuesday</strong></p>\n",
              " </td>\n",
              " <td style=\"width:617px\">\n",
              " <p><strong>End of Term</strong></p>\n",
              " </td>\n",
              " </tr><tr><td style=\"width:305px\">\n",
              " <p>December 24 - 25</p>\n",
              " </td>\n",
              " <td style=\"width:327px\">\n",
              " <p>Friday - Saturday</p>\n",
              " </td>\n",
              " <td style=\"width:617px\">\n",
              " <p>College Closed</p>\n",
              " </td>\n",
              " </tr><tr><td style=\"width:305px\">\n",
              " <p><strong>December 27</strong></p>\n",
              " </td>\n",
              " <td style=\"width:327px\">\n",
              " <p><strong>Monday</strong></p>\n",
              " </td>\n",
              " <td style=\"width:617px\">\n",
              " <p><strong>College Closed</strong></p>\n",
              " </td>\n",
              " </tr><tr><td style=\"width:305px\">\n",
              " <p>December 28</p>\n",
              " </td>\n",
              " <td style=\"width:327px\">\n",
              " <p>Tuesday</p>\n",
              " </td>\n",
              " <td style=\"width:617px\">\n",
              " <p>Final Grade Submission Deadline for Fall 2021</p>\n",
              " </td>\n",
              " </tr><tr><td style=\"width:305px\">\n",
              " <p><strong>December 31</strong></p>\n",
              " </td>\n",
              " <td style=\"width:327px\">\n",
              " <p><strong>Friday</strong></p>\n",
              " </td>\n",
              " <td style=\"width:617px\">\n",
              " <p><strong>College Closed</strong></p>\n",
              " </td>\n",
              " </tr><tr><td style=\"width:305px\">\n",
              " <p>January 1, 2022</p>\n",
              " </td>\n",
              " <td style=\"width:327px\">\n",
              " <p>Saturday</p>\n",
              " </td>\n",
              " <td style=\"width:617px\">\n",
              " <p>College Closed;<br/>\n",
              " \t\t\tFall 2021 Degree Conferral Date;</p>\n",
              " </td>\n",
              " </tr></tbody></table>]"
            ]
          },
          "metadata": {},
          "execution_count": 85
        }
      ]
    },
    {
      "cell_type": "code",
      "source": [
        "# Initialize lists to store extracted data\n",
        "links_list = []"
      ],
      "metadata": {
        "id": "v39RdKwHObSd"
      },
      "execution_count": 86,
      "outputs": []
    },
    {
      "cell_type": "code",
      "source": [
        "#Loop through all the links in the article\n",
        "for link in content.find_all(\"a\"):\n",
        "  try: #try to get url,date,days of week and text\n",
        "    url = link.get(\"href\")\n",
        "    date = link.date.get(\"DATE\")\n",
        "    days_of_week = link.days_of_week.get(\"DAYS\")\n",
        "    text = link.span.text\n",
        "    links_list.append({'url': url, 'date': date, 'days_of_week' : days_of_week, 'text': text})\n",
        "  except AttributeError: #if rows are missing or anythin\n",
        "    pass #skip it don't blow up"
      ],
      "metadata": {
        "id": "vOwRzpDK1LIK"
      },
      "execution_count": 87,
      "outputs": []
    },
    {
      "cell_type": "code",
      "source": [
        "\n",
        "#save as json file\n",
        "with open('links.json', 'w', encoding ='utf-8') as links_file:\n",
        "  json.dump(links_list, links_file, ensure_ascii = False )\n"
      ],
      "metadata": {
        "id": "Sct6f40H3lOz"
      },
      "execution_count": 88,
      "outputs": []
    },
    {
      "cell_type": "code",
      "source": [
        "#save it as csv\n",
        "with open('links.csv', 'w', newline ='') as csv_out:\n",
        "  csv_writer = csv.writer(csv_out)\n",
        "  #create the header row\n",
        "  csv_writer.writerow(['url','date','days_of_week','text'])\n",
        "  for row in links_list:\n",
        "    csv_writer.writerow([str(row['url']),str(row['date']),str(row['days_of_week']),str(row['text'])])\n"
      ],
      "metadata": {
        "id": "472iRLJd6WL7"
      },
      "execution_count": 89,
      "outputs": []
    },
    {
      "cell_type": "code",
      "source": [
        "df = pd.DataFrame(links_list)\n",
        "file_path = \"links_list.json\"\n",
        "df.to_json(file_path, orient=\"records\")\n"
      ],
      "metadata": {
        "id": "jRJb61boVOk6"
      },
      "execution_count": 90,
      "outputs": []
    },
    {
      "cell_type": "code",
      "source": [
        "df\n"
      ],
      "metadata": {
        "id": "SZ46otgYVlhD",
        "colab": {
          "base_uri": "https://localhost:8080/",
          "height": 138
        },
        "outputId": "ded74f1b-e9d8-4dcd-e1b1-c8b761ee7fc0"
      },
      "execution_count": 91,
      "outputs": [
        {
          "output_type": "execute_result",
          "data": {
            "text/plain": [
              "Empty DataFrame\n",
              "Columns: []\n",
              "Index: []"
            ],
            "text/html": [
              "\n",
              "  <div id=\"df-c22f9a4a-89ce-4b08-8b30-4fcd692f99c1\" class=\"colab-df-container\">\n",
              "    <div>\n",
              "<style scoped>\n",
              "    .dataframe tbody tr th:only-of-type {\n",
              "        vertical-align: middle;\n",
              "    }\n",
              "\n",
              "    .dataframe tbody tr th {\n",
              "        vertical-align: top;\n",
              "    }\n",
              "\n",
              "    .dataframe thead th {\n",
              "        text-align: right;\n",
              "    }\n",
              "</style>\n",
              "<table border=\"1\" class=\"dataframe\">\n",
              "  <thead>\n",
              "    <tr style=\"text-align: right;\">\n",
              "      <th></th>\n",
              "    </tr>\n",
              "  </thead>\n",
              "  <tbody>\n",
              "  </tbody>\n",
              "</table>\n",
              "</div>\n",
              "    <div class=\"colab-df-buttons\">\n",
              "\n",
              "  <div class=\"colab-df-container\">\n",
              "    <button class=\"colab-df-convert\" onclick=\"convertToInteractive('df-c22f9a4a-89ce-4b08-8b30-4fcd692f99c1')\"\n",
              "            title=\"Convert this dataframe to an interactive table.\"\n",
              "            style=\"display:none;\">\n",
              "\n",
              "  <svg xmlns=\"http://www.w3.org/2000/svg\" height=\"24px\" viewBox=\"0 -960 960 960\">\n",
              "    <path d=\"M120-120v-720h720v720H120Zm60-500h600v-160H180v160Zm220 220h160v-160H400v160Zm0 220h160v-160H400v160ZM180-400h160v-160H180v160Zm440 0h160v-160H620v160ZM180-180h160v-160H180v160Zm440 0h160v-160H620v160Z\"/>\n",
              "  </svg>\n",
              "    </button>\n",
              "\n",
              "  <style>\n",
              "    .colab-df-container {\n",
              "      display:flex;\n",
              "      gap: 12px;\n",
              "    }\n",
              "\n",
              "    .colab-df-convert {\n",
              "      background-color: #E8F0FE;\n",
              "      border: none;\n",
              "      border-radius: 50%;\n",
              "      cursor: pointer;\n",
              "      display: none;\n",
              "      fill: #1967D2;\n",
              "      height: 32px;\n",
              "      padding: 0 0 0 0;\n",
              "      width: 32px;\n",
              "    }\n",
              "\n",
              "    .colab-df-convert:hover {\n",
              "      background-color: #E2EBFA;\n",
              "      box-shadow: 0px 1px 2px rgba(60, 64, 67, 0.3), 0px 1px 3px 1px rgba(60, 64, 67, 0.15);\n",
              "      fill: #174EA6;\n",
              "    }\n",
              "\n",
              "    .colab-df-buttons div {\n",
              "      margin-bottom: 4px;\n",
              "    }\n",
              "\n",
              "    [theme=dark] .colab-df-convert {\n",
              "      background-color: #3B4455;\n",
              "      fill: #D2E3FC;\n",
              "    }\n",
              "\n",
              "    [theme=dark] .colab-df-convert:hover {\n",
              "      background-color: #434B5C;\n",
              "      box-shadow: 0px 1px 3px 1px rgba(0, 0, 0, 0.15);\n",
              "      filter: drop-shadow(0px 1px 2px rgba(0, 0, 0, 0.3));\n",
              "      fill: #FFFFFF;\n",
              "    }\n",
              "  </style>\n",
              "\n",
              "    <script>\n",
              "      const buttonEl =\n",
              "        document.querySelector('#df-c22f9a4a-89ce-4b08-8b30-4fcd692f99c1 button.colab-df-convert');\n",
              "      buttonEl.style.display =\n",
              "        google.colab.kernel.accessAllowed ? 'block' : 'none';\n",
              "\n",
              "      async function convertToInteractive(key) {\n",
              "        const element = document.querySelector('#df-c22f9a4a-89ce-4b08-8b30-4fcd692f99c1');\n",
              "        const dataTable =\n",
              "          await google.colab.kernel.invokeFunction('convertToInteractive',\n",
              "                                                    [key], {});\n",
              "        if (!dataTable) return;\n",
              "\n",
              "        const docLinkHtml = 'Like what you see? Visit the ' +\n",
              "          '<a target=\"_blank\" href=https://colab.research.google.com/notebooks/data_table.ipynb>data table notebook</a>'\n",
              "          + ' to learn more about interactive tables.';\n",
              "        element.innerHTML = '';\n",
              "        dataTable['output_type'] = 'display_data';\n",
              "        await google.colab.output.renderOutput(dataTable, element);\n",
              "        const docLink = document.createElement('div');\n",
              "        docLink.innerHTML = docLinkHtml;\n",
              "        element.appendChild(docLink);\n",
              "      }\n",
              "    </script>\n",
              "  </div>\n",
              "\n",
              "    </div>\n",
              "  </div>\n"
            ]
          },
          "metadata": {},
          "execution_count": 91
        }
      ]
    }
  ]
}